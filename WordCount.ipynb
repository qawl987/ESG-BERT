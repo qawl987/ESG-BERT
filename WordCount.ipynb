{
 "cells": [
  {
   "cell_type": "code",
   "execution_count": 1,
   "metadata": {},
   "outputs": [],
   "source": [
    "import pandas as pd\n",
    "import nltk\n",
    "from nltk.tokenize import word_tokenize\n",
    "from nltk.probability import FreqDist"
   ]
  },
  {
   "attachments": {},
   "cell_type": "markdown",
   "metadata": {},
   "source": [
    "give 20 keywords related to Customer_Welfare with following four rule\n",
    "1. all str be lower case\n",
    "2. key word try to use one word\n",
    "3. key word also corresponding with Environmental, Social, and Governance (ESG) Investing field\n",
    "4. use the form  ('example1', 'example2', 'example3'...... 'example15) "
   ]
  },
  {
   "cell_type": "code",
   "execution_count": 2,
   "metadata": {},
   "outputs": [],
   "source": [
    "lda_table = {\n",
    "    ('integrity', 'transparency', 'accountability', 'fairness', 'honesty', 'trustworthiness', 'responsibility', 'compliance', 'governance', 'conflict of interest', 'whistleblower', 'bribery', 'corruption', 'corporate social responsibility', 'code of conduct', 'values', 'ethics training', 'sustainability', 'human rights', 'stakeholder'): 0,\n",
    "    ('encryption', 'firewall', 'vulnerability', 'authentication', 'authorization', 'access control', 'audit trail', 'backup', 'data breach', 'cybersecurity', 'malware', 'phishing', 'ransomware', 'threat intelligence', 'data privacy', 'compliance', 'risk management', 'network security', 'information security', 'incident response'): 1,\n",
    "    ('equal access', 'affordability', 'inclusivity', 'fair pricing', 'financial assistance', 'welfare benefits', 'universal design', 'digital divide', 'social welfare', 'income inequality', 'poverty reduction', 'cost reduction', 'healthcare access', 'education access', 'basic needs', 'public transportation', 'housing affordability', 'microfinance', 'community development', 'social mobility'): 2,\n",
    "    ('agility', 'adaptability', 'flexibility', 'risk management', 'innovation', 'diversification', 'resilience planning', 'scenario planning', 'disruption management', 'supply chain resilience', 'redundancy', 'crisis management', 'business continuity', 'customer retention', 'employee retention', 'financial stability', 'strategic partnerships', 'sustainability', 'digital transformation', 'entrepreneurship'): 3,\n",
    "    ('competition', 'advantage', 'share', 'pricing', 'differentiation', 'branding', 'targeting', 'research', 'segmentation', 'positioning', 'analysis', 'trends', 'saturation', 'penetration', 'demand', 'expansion', 'growth', 'development', 'disruption', 'marketing'): 4,\n",
    "    ('preparedness', 'response', 'recovery', 'crisis communication', 'emergency planning', 'vulnerability assessment', 'risk assessment', 'incident reporting', 'mitigation', 'business continuity', 'disaster recovery', 'first response', 'stakeholder engagement', 'incident investigation', 'communication plan', 'emergency drills', 'incident analysis', 'emergency services', 'security assessment', 'threat assessment'): 5,\n",
    "    ('privacy', 'safety', 'transparency', 'accessibility', 'fairness', 'inclusivity', 'diversity', 'responsiveness', 'satisfaction', 'reliability', 'accountability', 'ethics', 'empowerment', 'protection', 'quality', 'health', 'sustainability', 'equity', 'stakeholder', 'service'): 6,\n",
    "    ('director', 'board', 'governance', 'oversight', 'accountability', 'stewardship', 'fiduciary', 'responsibility', 'transparency', 'independence', 'diversity', 'equity', 'inclusion', 'conflict', 'resolution', 'shareholder', 'activism', 'proxy', 'voting', 'engagement'): 7,\n",
    "    ('employee', 'engagement', 'inclusion', 'diversity', 'workplace', 'culture', 'belonging', 'equity', 'collaboration', 'communication', 'leadership', 'recognition', 'empowerment', 'development', 'training', 'talent', 'recruitment', 'retention', 'performance', 'well-being'): 8,\n",
    "    ('employee', 'health', 'safety', 'workplace', 'ergonomics', 'injury', 'prevention', 'occupational', 'hazard', 'protection', 'wellness', 'mental', 'physical', 'training', 'compliance', 'regulation', 'emergency', 'response', 'environmental', 'healthcare'): 9,\n",
    "    ('human', 'rights', 'community', 'relations', 'stakeholder', 'engagement', 'diversity', 'equity', 'inclusion', 'social', 'responsibility', 'accountability', 'transparency', 'advocacy', 'dialogue', 'partnership', 'collaboration', 'impact', 'assessment', 'sustainability'): 10,\n",
    "    ('labor', 'practices', 'workforce', 'management', 'employment', 'standards', 'wages', 'compensation', 'benefits', 'collective', 'bargaining', 'working', 'conditions', 'child', 'forced', 'labor', 'health', 'safety', 'diversity', 'inclusion'): 11,\n",
    "    ('compliance', 'risk', 'regulation', 'audit', 'enforcement', 'governance', 'policy', 'law', 'transparency', 'accountability', 'ethics', 'corruption', 'sustainability', 'stakeholder', 'disclosure', 'oversight', 'complaints', 'due diligence', 'legal', 'fiduciary'): 12,\n",
    "    ('heat waves', 'drought', 'wildfires', 'floods', 'sea level rise', 'ocean acidification', 'extreme weather', 'food scarcity', 'water scarcity', 'land degradation', 'air quality', 'ecosystem collapse', 'invasive species', 'vector-borne diseases', 'climate refugees', 'biodiversity loss', 'coastal erosion', 'permafrost thaw', 'avalanches', 'mudslides'): 13,\n",
    "    ('product testing', 'quality control', 'product recalls', 'product liability', 'safety regulations', 'consumer protection', 'supply chain management', 'counterfeiting', 'product certification', 'risk assessment', 'traceability', 'ISO standards', 'food safety', 'pharmaceuticals', 'chemicals', 'toxicology', 'biocompatibility', 'medical devices', 'product labeling', 'packaging'): 14,\n",
    "    ('product development', 'design thinking', 'user experience', 'prototyping', 'innovation', 'sustainability', 'circular economy', 'material selection', 'manufacturing', 'supply chain optimization', 'cost analysis', 'value engineering', 'product launch', 'product maintenance', 'end-of-life management', 'product disposal', 'remanufacturing', 'refurbishing', 'product upgrades', 'product customization'): 15,\n",
    "    ('truth in advertising', 'pricing strategy', 'sales tactics', 'consumer protection', 'product labeling', 'packaging', 'branding', 'product positioning', 'market segmentation', 'targeting', 'market research', 'customer profiling', 'influencer marketing', 'social media marketing', 'greenwashing', 'cause-related marketing', 'misleading claims', 'labeling regulations', 'marketing channels'): 16,\n",
    "    ('procurement', 'logistics', 'inventory management', 'supplier management', 'outsourcing', 'offshoring', 'nearshoring', 'supply chain transparency', 'sustainability', 'risk management', 'lean manufacturing', 'just-in-time inventory', 'demand forecasting', 'collaborative planning', 'transportation', 'warehousing', 'reverse logistics', 'circular economy', 'ethical sourcing'): 17,\n",
    "    ('risk assessment', 'risk modeling', 'stress testing', 'scenario analysis', 'early warning systems', 'liquidity risk', 'credit risk', 'operational risk', 'market risk', 'systemic risk', 'macroprudential regulation', 'financial stability', 'crisis management', 'contingency planning', 'insurance', 'business continuity', 'cybersecurity', 'fraud detection', 'anti-money laundering'): 18,\n",
    "    ('waste', 'hazardous', 'disposal', 'recycling', 'landfills', 'incineration', 'pollution', 'toxicity', 'regulations', 'audits', 'sustainability', 'stewardship', 'chemistry', 'biomass', 'composting', 'reduction', 'reuse', 'recovery', 'EPR', 'Circularity'): 19,\n",
    "    ('water', 'wastewater', 'treatment', 'reuse', 'conservation', 'quality', 'pollution', 'discharge', 'infrastructure', 'regulations', 'sustainability', 'efficiency', 'recycling', 'desalination', 'resilience', 'sanitation', 'stormwater', 'irrigation', 'groundwater', 'floods'): 20,\n",
    "    ('pollution', 'emissions', 'particulate', 'smog', 'ozone', 'carbon', 'monoxide', 'nitrogen', 'sulfur', 'regulations', 'monitoring', 'health', 'indoor', 'outdoor', 'transportation', 'combustion', 'fossil', 'fuels', 'airborne', 'toxins'): 21,\n",
    "    ('privacy', 'data', 'consent', 'transparency', 'security', 'tracking', 'surveillance', 'confidentiality', 'encryption', 'cookies', 'PII', 'GDPR', 'CCPA', 'HIPAA', 'anonymization', 'breach', 'notification', 'compliance', 'ethics'): 22,\n",
    "    ('biodiversity', 'habitat', 'deforestation', 'desertification', 'land use', 'watershed', 'invasive', 'species', 'wildlife', 'conservation', 'ecosystem', 'fragmentation', 'pollinators', 'ecology', 'habitat', 'restoration', 'overfishing', 'aquaculture', 'coral', 'reefs'): 23,\n",
    "    ('energy', 'efficiency', 'conservation', 'demand', 'generation', 'storage', 'grid', 'renewables', 'solar', 'wind', 'hydro', 'geothermal', 'biomass', 'nuclear', 'smart', 'metering', 'net-zero', 'carbon', 'footprint', 'cogeneration'): 24,\n",
    "    ('emissions', 'carbon', 'greenhouse', 'gas', 'reduction', 'offsets', 'mitigation', 'pricing', 'markets', 'accounting', 'neutrality', 'footprint', 'climate', 'methane', 'nitrous', 'F-gases', 'deforestation', 'reforestation', 'blue carbon', 'finance', 'resilience'): 25,\n",
    "}"
   ]
  },
  {
   "cell_type": "code",
   "execution_count": 3,
   "metadata": {},
   "outputs": [],
   "source": [
    "def word_Count(row):\n",
    "    # Tokenize the paragraph into words\n",
    "    Copy = row['paragraph']\n",
    "    words = word_tokenize(Copy.lower())\n",
    "    # Calculate the frequency distribution of the words\n",
    "    fdist = FreqDist(words)\n",
    "    word_count = fdist.most_common()\n",
    "    word_count = [{f'{t[0]}': t[1]} for t in word_count]\n",
    "    # key_freq = [(key, sum((word_count[0].get(w, 0) for w in key))) for key in lda_table]\n",
    "    key_freq = []\n",
    "    for key in lda_table:\n",
    "        cnt = 0\n",
    "        for word in word_count:\n",
    "            for w in key:\n",
    "                cnt += word.get(w, 0)\n",
    "        key_freq.append((key, cnt))\n",
    "    # key_freq = [(key, sum((word.get(w, 0) for w in key)for word in word_count)) for key in lda_table]\n",
    "    # Sort the list of tuples by frequency, in descending order\n",
    "    key_freq.sort(key=lambda x: x[1], reverse=True)\n",
    "    return lda_table[key_freq[0][0]] if key_freq[0][1] > 0 else 26"
   ]
  },
  {
   "cell_type": "code",
   "execution_count": 4,
   "metadata": {},
   "outputs": [],
   "source": [
    "csv_folder = 'predict_american'\n",
    "word_cnt = 'xml'"
   ]
  },
  {
   "cell_type": "code",
   "execution_count": null,
   "metadata": {},
   "outputs": [],
   "source": [
    "# csv_folder = 'predict_taiwan'\n",
    "# word_cnt = 'five_word'"
   ]
  },
  {
   "cell_type": "code",
   "execution_count": null,
   "metadata": {},
   "outputs": [],
   "source": [
    "file_list = [\n",
    "'01_umc_1_154.pdf', '02_tsmc_1_210.pdf', '03_macronix_1_114.pdf', '04_esun_1_154.pdf', '05_eme_1_46.pdf',\n",
    " '06_asus_1_108.pdf', '07_acer_1_127.pdf', '08_witron_1_93.pdf', '09_honhai_1_22.pdf', '10_compal_1_169.pdf',\n",
    "  '11_quanta_1_123.pdf', '12_formosa_1_18.pdf', '13_csc_1_150.pdf', '14_qisda_1_134.pdf', '15_msi_1_97.pdf',\n",
    "   '16_gigabyte_1_74.pdf', '17_nanya_1_154.pdf', '18_novatek_1_140.pdf', '19_mediatek_1_97.pdf', '20_asia_1_119.pdf', \n",
    "   '21_cathay_1_52.pdf', '22_cht_1_79.pdf', '23_fubon_1_89.pdf', '24_mega_1_68.pdf']"
   ]
  },
  {
   "cell_type": "code",
   "execution_count": 5,
   "metadata": {},
   "outputs": [],
   "source": [
    "def csv2newcsv(file, csv_folder, word_cnt):\n",
    "    file = file.strip('.pdf')\n",
    "    csv_path = f'./{csv_folder}/{word_cnt}/{file}.csv'\n",
    "    # csv_path = './apple_test.csv'\n",
    "    df = pd.read_csv(csv_path)\n",
    "    df['count'] = df.apply(word_Count, axis=1)\n",
    "    # counts = df['count'].value_counts()\n",
    "    df['different'] = df.apply(lambda row: 'diff' if row['predict_label']!=row['count'] else None, axis=1)\n",
    "    df['empty'] = df.apply(lambda row: 'empty' if row['count']==26 else None, axis=1)\n",
    "    diff_rate = (df['different'].str.count('diff').sum()) / len(df['paragraph'])\n",
    "    empty_rate = (df['empty'].str.count('empty').sum()) / len(df['paragraph'])\n",
    "    df.loc[0, 'diff rate'] = diff_rate\n",
    "    df.loc[1:, 'diff rate'] = None\n",
    "    df.loc[0, 'empty rate'] = empty_rate\n",
    "    df.loc[1:, 'empty rate'] = None\n",
    "    df.to_csv(f'./{csv_folder}/{word_cnt}/word_count/{file}.csv', sep=',', index=False, encoding='utf-8')\n",
    "    # df.to_csv('./apple_test.csv', sep=',', index=False, encoding='utf-8')\n",
    "    return df"
   ]
  },
  {
   "cell_type": "code",
   "execution_count": null,
   "metadata": {},
   "outputs": [],
   "source": [
    "for file in file_list:\n",
    "    csv2newcsv(file, csv_folder, word_cnt)"
   ]
  },
  {
   "cell_type": "code",
   "execution_count": 6,
   "metadata": {},
   "outputs": [],
   "source": [
    "df = csv2newcsv('4_apple_1_72.pdf', csv_folder, word_cnt)"
   ]
  },
  {
   "cell_type": "code",
   "execution_count": null,
   "metadata": {},
   "outputs": [],
   "source": [
    "print(df)"
   ]
  },
  {
   "cell_type": "code",
   "execution_count": null,
   "metadata": {},
   "outputs": [],
   "source": [
    "# import numpy as np\n",
    "# import matplotlib.pyplot as plt\n",
    "\n",
    "# plt.bar(counts.index, counts.values)\n",
    "# plt.xlabel('Letters')\n",
    "# plt.ylabel('Counts')\n",
    "# plt.title('Distribution of Letter Counts')\n",
    "# plt.show()"
   ]
  },
  {
   "cell_type": "code",
   "execution_count": null,
   "metadata": {},
   "outputs": [],
   "source": [
    "taiwan = [\n",
    "'01_umc_1_154.pdf', '02_tsmc_1_210.pdf', '03_macronix_1_114.pdf', '04_esun_1_154.pdf', '05_eme_1_46.pdf',\n",
    " '06_asus_1_108.pdf', '07_acer_1_127.pdf', '08_witron_1_93.pdf', '09_honhai_1_22.pdf', '10_compal_1_169.pdf',\n",
    "  '11_quanta_1_123.pdf', '12_formosa_1_18.pdf', '13_csc_1_150.pdf', '14_qisda_1_134.pdf', '15_msi_1_97.pdf',\n",
    "   '16_gigabyte_1_74.pdf', '17_nanya_1_154.pdf', '18_novatek_1_140.pdf', '19_mediatek_1_97.pdf', '20_asia_1_119.pdf', \n",
    "   '21_cathay_1_52.pdf', '22_cht_1_79.pdf', '23_fubon_1_89.pdf', '24_mega_1_68.pdf']"
   ]
  },
  {
   "cell_type": "code",
   "execution_count": null,
   "metadata": {},
   "outputs": [],
   "source": [
    "ameircan = [\n",
    "'01_dow_1_85.pdf', '02_agilent_1_106.pdf', '03_amazon_1_79.pdf', '04_apple_1_72.pdf',\n",
    "'05_boeing_1_66.pdf', '06_bxp_1_65.pdf', '07_charles_1_50.pdf', '08_cisco_1_56.pdf', '09_citigroup_1_137.pdf', '10_cme_1_34.pdf', \n",
    "'11_colgate_1_84.pdf', '12_corning_1_71.pdf', '13_expeditor_1_37.pdf', '14_eei_1_80.pdf', '15_itt_1_44.pdf', \n",
    "'16_fedex_1_34.pdf', '17_firstscolar_1_57.pdf', '18_google_1_14.pdf', '19_intel_1_86.pdf', '20_jpmorgan_1_61.pdf', \n",
    "'21_microsoft_1_89.pdf', '22_rockwell_1_58.pdf', '23_ibm_1_49.pdf', '24_traveler_1_147.pdf', '25_visa_1_52.pdf']"
   ]
  },
  {
   "cell_type": "code",
   "execution_count": null,
   "metadata": {},
   "outputs": [],
   "source": []
  },
  {
   "cell_type": "code",
   "execution_count": null,
   "metadata": {},
   "outputs": [],
   "source": []
  },
  {
   "cell_type": "code",
   "execution_count": null,
   "metadata": {},
   "outputs": [],
   "source": [
    "\n",
    "    "
   ]
  },
  {
   "attachments": {},
   "cell_type": "markdown",
   "metadata": {},
   "source": [
    "# 下面備用"
   ]
  },
  {
   "cell_type": "code",
   "execution_count": null,
   "metadata": {},
   "outputs": [],
   "source": [
    "fd = df['paragraph'][2]\n",
    "print(fd)\n",
    "words = word_tokenize(fd)\n",
    "fd = FreqDist(fd)\n",
    "wd = fd.most_common()\n",
    "print(wd)"
   ]
  },
  {
   "cell_type": "code",
   "execution_count": null,
   "metadata": {},
   "outputs": [],
   "source": [
    "lda = {\n",
    "    'Business ethics': 0,\n",
    "    'Data security': 1,\n",
    "    'Access_And_Affordability': 2,\n",
    "    'Business_Model_Resilience': 3,\n",
    "    'Competitive_Behavior': 4,\n",
    "    'Critical_Incident_Risk_Management': 5,\n",
    "    'Customer_Welfare': 6,\n",
    "    'Director_Removal': 7,\n",
    "    'Employee_Engagement_Inclusion_And_Diversity': 8,\n",
    "    'Employee_Health_And_Safety': 9,\n",
    "    'Human_Rights_And_Community_Relations': 10,\n",
    "    'Labor_Practices': 11,\n",
    "    'Management_Of_Legal_And_Regulatory_Framework': 12,\n",
    "    'Physical_Impacts_Of_Climate_Change': 13,\n",
    "    'Product_Quality_And_Safety': 14,\n",
    "    'Product_Design_And_Lifecycle_Management': 15,\n",
    "    'Selling_Practices_And_Product_Labeling': 16,\n",
    "    'Supply_Chain_Management': 17,\n",
    "    'Systemic_Risk_Management': 18,\n",
    "    'Waste_And_Hazardous_Materials_Management': 19,\n",
    "    'Water_And_Wastewater_Management': 20,\n",
    "    'Air_Quality': 21,\n",
    "    'Customer_Privacy': 22,\n",
    "    'Ecological_Impacts': 23,\n",
    "    'Energy_Management': 24,\n",
    "    'GHG_Emissions': 25\n",
    "}"
   ]
  },
  {
   "cell_type": "code",
   "execution_count": null,
   "metadata": {},
   "outputs": [],
   "source": [
    "paragraph = \"This This a a a a a a a b b b b sample some words frequency.\"\n",
    "word\n",
    "\n",
    "# # Print the most common words and their frequencies\n",
    "# for word, frequency in fdist.most_common():\n",
    "#     if word in lda:\n",
    "#         print(f\"{word}: {frequency} (in dictionary)\")\n",
    "#     else:\n",
    "#         print(f\"{word}: {frequency}\")"
   ]
  },
  {
   "cell_type": "code",
   "execution_count": null,
   "metadata": {},
   "outputs": [],
   "source": [
    "word_count = [{'access': 7, 'affordability': 4, 'business': 2, 'ethics': 1, 'some': 1, 'words': 1, 'frequency': 1, '.': 1}]\n",
    "lda_table = { ('business', 'ethics'): 0, ('data', 'security'): 1, ('access', 'affordability'): 2, ('business', 'resilience'): 3, ('competitive', 'behavior'): 4 }\n",
    "\n",
    "# Create a list of tuples that contain each key in lda_table\n",
    "# along with the frequency of its elements in word_count\n",
    "completed = set()\n",
    "for key, freq in key_freq:\n",
    "    if key in completed:\n",
    "        continue\n",
    "    if freq > 0 and all(w in word_count[0] for w in key):\n",
    "        completed.add(key)\n",
    "        return lda_table[key]\n",
    "return 26"
   ]
  },
  {
   "cell_type": "code",
   "execution_count": null,
   "metadata": {},
   "outputs": [],
   "source": [
    "lda_table = {\n",
    "    ('business', 'ethics', 'transparency', ): 0,\n",
    "    ('data', 'security'): 1,\n",
    "    ('access', 'affordability'): 2,\n",
    "    ('business', 'resilience'): 3,\n",
    "    ('competitive', 'behavior'): 4,\n",
    "    ('critical', 'incident', 'risk', 'management'): 5,\n",
    "    ('customer', 'welfare'): 6,\n",
    "    ('director', 'removal'): 7,\n",
    "    ('employee', 'engagement', 'inclusion', 'diversity'): 8,\n",
    "    ('employee', 'health', 'safety'): 9,\n",
    "    ('human', 'rights', 'community', 'relations'): 10,\n",
    "    ('labor', 'practices'): 11,\n",
    "    ('legal', 'regulatory', 'regulatory', 'framework'): 12,\n",
    "    ('physical', 'impacts', 'climate', 'change'): 13,\n",
    "    ('product', 'quality' 'safety'): 14,\n",
    "    ('product', 'design', 'lifecycle', 'management'): 15,\n",
    "    ('selling', 'practices', 'product', 'labeling'): 16,\n",
    "    ('supply', 'chain', 'management'): 17,\n",
    "    ('systemic', 'risk', 'management'): 18,\n",
    "    ('waste', 'hazardous'): 19,\n",
    "    ('water', 'wastewater'): 20,\n",
    "    ('air', 'quality'): 21,\n",
    "    ('customer', 'privacy'): 22,\n",
    "    ('ecological', 'impacts'): 23,\n",
    "    ('energy', 'management'): 24,\n",
    "    ('ghg', 'emissions'): 25,\n",
    "}"
   ]
  },
  {
   "cell_type": "code",
   "execution_count": null,
   "metadata": {},
   "outputs": [],
   "source": [
    "lda_table = {\n",
    "    ('business', 'ethics'): 0,\n",
    "    ('data', 'security'): 1,\n",
    "    ('access', 'affordability'): 2,\n",
    "    ('business', 'resilience'): 3,\n",
    "    ('competitive', 'behavior'): 4,\n",
    "    ('critical', 'incident', 'risk', 'management'): 5,\n",
    "    ('customer', 'welfare'): 6,\n",
    "    ('director', 'removal'): 7,\n",
    "    ('employee', 'engagement', 'inclusion', 'diversity'): 8,\n",
    "    ('employee', 'health', 'safety'): 9,\n",
    "    ('human', 'rights', 'community', 'relations'): 10,\n",
    "    ('labor', 'practices'): 11,\n",
    "    ('management', 'legal', 'regulatory', 'framework'): 12,\n",
    "    ('physical', 'impacts', 'climate', 'change'): 13,\n",
    "    ('product', 'quality' 'safety'): 14,\n",
    "    ('product', 'design', 'lifecycle', 'management'): 15,\n",
    "    ('selling', 'practices', 'product', 'labeling'): 16,\n",
    "    ('supply', 'chain', 'management'): 17,\n",
    "    ('systemic', 'risk', 'management'): 18,\n",
    "    ('waste', 'hazardous', 'materials', 'management'): 19,\n",
    "    ('water', 'and', 'wastewater', 'management'): 20,\n",
    "    ('air', 'quality'): 21,\n",
    "    ('customer', 'privacy'): 22,\n",
    "    ('ecological', 'impacts'): 23,\n",
    "    ('energy', 'management'): 24,\n",
    "    ('ghg', 'emissions'): 25,\n",
    "}"
   ]
  }
 ],
 "metadata": {
  "kernelspec": {
   "display_name": "nlp",
   "language": "python",
   "name": "python3"
  },
  "language_info": {
   "codemirror_mode": {
    "name": "ipython",
    "version": 3
   },
   "file_extension": ".py",
   "mimetype": "text/x-python",
   "name": "python",
   "nbconvert_exporter": "python",
   "pygments_lexer": "ipython3",
   "version": "3.7.15"
  },
  "orig_nbformat": 4
 },
 "nbformat": 4,
 "nbformat_minor": 2
}
