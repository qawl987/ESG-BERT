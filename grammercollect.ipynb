{
 "cells": [
  {
   "cell_type": "code",
   "execution_count": 1,
   "metadata": {},
   "outputs": [
    {
     "name": "stdout",
     "output_type": "stream",
     "text": [
      "30\n"
     ]
    }
   ],
   "source": [
    "print(len('Governance     I     Appendix '))"
   ]
  },
  {
   "attachments": {},
   "cell_type": "markdown",
   "metadata": {},
   "source": [
    "# Taiwan"
   ]
  },
  {
   "cell_type": "code",
   "execution_count": null,
   "metadata": {},
   "outputs": [],
   "source": [
    "def grammer(nation, file, x):\n",
    "    if nation == 'taiwan':\n",
    "        if file == '1_umc_1_154':\n",
    "            return None if x[:32] == 'Leading the Corporate Governance' or x[:36] == '2020 CORPORATE SOCIAL RESPONSIBILITY' else x\n",
    "        elif file == '2_tsmc_1_210':\n",
    "            return None if x[:37] == '2021 Sustainability ReportESG Feature' else x\n",
    "        elif file == '3_macronix_1_114':\n",
    "            return None if x[:37] == 'Messages from the Macronix Executives' else x\n",
    "        elif file == '5_eme_1_46':\n",
    "            return None if x[:13] == 'About eMemory' else x\n",
    "        elif file == '6_asus_1_108':\n",
    "            return None if x[:20] == '00 About This Report' else x\n",
    "        elif file == '7_acer_1_127':\n",
    "            return None if x[:33] == 'Message from the Chairman and CEO' or x[:33] == 'A Tolerant Workplace  and Society' else x\n",
    "        elif file == '8_witron_1_93':\n",
    "            return None if x[:27] == '2021 Wistron ITS ESG Report' else x\n",
    "        elif file == '10_compal_1_169':\n",
    "            return None if x[:33] == 'Climate change and GHG Management' else x\n",
    "        elif file == '13_csc_1_150':\n",
    "            return None if x[:23] == '2021 CSC Sustainability' or x[:12] == 'CH 4Industry' else x\n",
    "        elif file == '16_gigabyte_1_74':\n",
    "            return None if x[:24] == 'Sustainable  Development' or x[:40] == '2021 GIGABYTE Technology  Sustainability' else x\n",
    "        elif file == '18_novatek_1_140':\n",
    "            return None if x[:9] == 'CH1CH2CH4' else x\n",
    "        elif file == '19_mediatek_1_97':\n",
    "            return None if x[:26] == '2021 Sustainability Report' else x\n",
    "        elif file == '21_cathay_1_52':\n",
    "            return None if x[:25] == 'Cathay Financial Holdings' else x\n",
    "        elif file == '22_cht_1_79':\n",
    "            return None if x[:23] == 'Corporate Governance 18' or x[:16] == 'THE CREATION  OF' or x[:25] == 'Emerging Opportunities 48' or x[:32] == 'The Digital Economy Motivator 64' or x[:32] == 'The Happiness Value Protector 74' else x\n",
    "        elif file == '23_fubon_1_89':\n",
    "            return None if x[:31] == 'Chairmans MessageSustainability' or x[:35] == 'Fubon Financial 2021 Sustainability' or x[-26:] == '2021 Sustainability Report' else x\n",
    "        elif file == '24_mega_1_68':\n",
    "            return None if x[-39:] == '2021 Mega Holding Sustainability Report' or x[:39] == '2021 Mega Holding Sustainability Report' or x[-26:] == '2021 Sustainability Report' else x\n",
    "        else:\n",
    "            return x"
   ]
  },
  {
   "cell_type": "code",
   "execution_count": null,
   "metadata": {},
   "outputs": [],
   "source": [
    "#   23_fubon\n",
    "    return None if x[:31] == 'Chairmans MessageSustainability' else x"
   ]
  },
  {
   "attachments": {},
   "cell_type": "markdown",
   "metadata": {},
   "source": [
    "# American"
   ]
  },
  {
   "cell_type": "code",
   "execution_count": null,
   "metadata": {},
   "outputs": [],
   "source": [
    "def grammer(nation, file, x):\n",
    "    if nation == 'american':\n",
    "        if file == '1_dow_1_85':\n",
    "            return None if x[:15] == 'VISION STRATEGY' or x[:25] == 'ENVIRONMENTAL PERFORMANCE' or x[:17] == 'DOW      2021 ESG' else x\n",
    "        elif file == '3_amazon_1_79':\n",
    "            return None if x[:45] == '2021 Sustainability Report       Introduction' else x\n",
    "        elif file == '4_apple_1_72':\n",
    "            return None if x[:22] == 'Apples 2022 ESG Report' else x\n",
    "        elif file == '5_boeing_1_66':\n",
    "            return None if x[:26] == '2022 Sustainability Report' else x\n",
    "        elif file == '6_bxp_1_65':\n",
    "            return None if x[:25] == '2021 ENVIRONMENTAL SOCIAL' else x\n",
    "        elif file == '7_charles_1_50':\n",
    "            return None if x[:18] == 'The Charles Schwab' or x[:26] == 'Back to table of contents' else x\n",
    "        elif file == '8_cisco_1_56':\n",
    "            return None if x[:25] == '2022 Cisco Purpose Report' else x\n",
    "        elif file == '9_citigroup_1_137':\n",
    "            return None if x[:20] == 'CITI 2021 ESG REPORT' else x\n",
    "        elif file == '10_cme_1_34':\n",
    "            return None if x[:25] == '2021 CME GROUP ESG REPORT' else x\n",
    "        elif file == '11_colgate_1_84':\n",
    "            return None if x[:37] == '2 0 2 1   S U S T A I N A B I L I T Y' or x[:7] == 'P A G E' else x\n",
    "        elif file == '12_corning_1_71':\n",
    "            return None if x[:27] == '2021 Corning Sustainability' or x[:18] == 'DRAFT REPORT March' else x\n",
    "        elif file == '14_eei_1_80':\n",
    "            return None if x[-23:] == 'EEI Investor ESG Report' else x\n",
    "        elif file == '15_itt_1_44':\n",
    "            return None if x[:30] == '2022 ITT Sustainability Report' else x\n",
    "        elif file == '16_fedex_1_34':\n",
    "            return None if x[:19] == 'N T R O D U C T O N' or x[:21] == 'O U R P R N C P L E S' or x[:17] == 'O U R P L A N E T' or x[:17] == 'O U R P E O P L E' or x[:21] == 'D A T A A P P E N D X'else x\n",
    "        elif file == '17_firstscolar_1_57':\n",
    "            return None if x[:33] == 'First Solar Sustainability Report' else x\n",
    "        elif file == '20_jpmorgan_1_61':\n",
    "            return None if x[:16] == 'Message from Our' or x[:23] == 'Feature Our 25 Trillion' else x\n",
    "        elif file == '25_visa_1_52':\n",
    "            return None if x[:18] == '2021 Environmental' else x\n",
    "        else:\n",
    "            return x"
   ]
  }
 ],
 "metadata": {
  "kernelspec": {
   "display_name": "esgbert",
   "language": "python",
   "name": "python3"
  },
  "language_info": {
   "codemirror_mode": {
    "name": "ipython",
    "version": 3
   },
   "file_extension": ".py",
   "mimetype": "text/x-python",
   "name": "python",
   "nbconvert_exporter": "python",
   "pygments_lexer": "ipython3",
   "version": "3.7.15 (default, Nov 24 2022, 21:12:53) \n[GCC 11.2.0]"
  },
  "orig_nbformat": 4,
  "vscode": {
   "interpreter": {
    "hash": "07ab08fa76665a89038b50b331dd9223d4e470d2d4facccdbf60961d882d1011"
   }
  }
 },
 "nbformat": 4,
 "nbformat_minor": 2
}
