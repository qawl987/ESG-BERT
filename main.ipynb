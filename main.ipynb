{
 "cells": [
  {
   "cell_type": "code",
   "execution_count": 21,
   "metadata": {},
   "outputs": [
    {
     "name": "stdout",
     "output_type": "stream",
     "text": [
      "/home/kai/muku_esg/ESG-BERT\n"
     ]
    }
   ],
   "source": [
    "import os\n",
    "import sys\n",
    "import re\n",
    "import pandas as pd\n",
    "import csv\n",
    "from typing import List\n",
    "from functools import partial\n",
    "sys.path.append(\"/home/kai/muku_esg/ESG-BERT/\")\n",
    "from allgrammer import grammer\n",
    "from pdfminer.high_level import extract_text\n",
    "%cd /home/kai/muku_esg/ESG-BERT/"
   ]
  },
  {
   "cell_type": "code",
   "execution_count": 22,
   "metadata": {},
   "outputs": [],
   "source": [
    "class EsgBertLabel():\n",
    "    def __init__(self, folder, csv_folder, word_cnt) -> None:\n",
    "        self.folder = folder\n",
    "        self.csv_folder = csv_folder\n",
    "        self.word_cnt = word_cnt\n",
    "    \n",
    "    @staticmethod\n",
    "    def ascii(text):\n",
    "        text = re.sub(r'[^\\x00-\\x7F]', '', text)\n",
    "        text = re.sub(r'[\\x0C]', r\"\\n\\n\", text)\n",
    "        return text\n",
    "    \n",
    "    @staticmethod\n",
    "    def clean_text( x: str, folder, file_name):\n",
    "        x = x.replace('\\n', ' ')\n",
    "        x = re.sub(r'[!\\\"#$%&\\'()*\\+,-.\\/:;<=>?@\\[\\\\\\]^_`{|}~]', '', x)\n",
    "        x = x.replace('\\t', ' ')\n",
    "        x = x.strip()\n",
    "        if len(x.split()) < 8:\n",
    "            return None\n",
    "        else:\n",
    "            return grammer(x, folder, file_name)\n",
    "        \n",
    "    def loop_folder(self, file_names: List[str]):\n",
    "        for file_name in file_names:\n",
    "            file_name = file_name.strip('.pdf')\n",
    "            os.chdir('/home/kai/muku_esg/ESG-BERT')\n",
    "            print(file_name)\n",
    "            paragraphs = self.preprocess(file_name)\n",
    "            self.predict(paragraphs)\n",
    "            self.to_csv(paragraphs, file_name)\n",
    "\n",
    "    def preprocess(self, file_name: str):     \n",
    "        text = extract_text(f\"./{self.folder}/{file_name}.pdf\")\n",
    "        text = ascii(text)\n",
    "        text = text.strip('\\\"')\n",
    "        paragraph = re.split(r'\\n\\s*\\n', text)\n",
    "        constant_preprocess = partial(self.clean_text, folder=self.folder, file_name=file_name)\n",
    "        paragraph = map(constant_preprocess, paragraph)\n",
    "        paragraph = list(paragraph)\n",
    "        non_empty_paragraph = []\n",
    "        for i in range(len(paragraph)):\n",
    "            if paragraph[i] != None:\n",
    "                x = paragraph[i].split()\n",
    "                fifthlist = x[:300]\n",
    "                fifthstr = ' '.join(fifthlist)\n",
    "                non_empty_paragraph.append(fifthstr)\n",
    "        return non_empty_paragraph\n",
    "        \n",
    "    def predict(self, paragraphs: List[str]):\n",
    "        os.chdir('./predict_american')\n",
    "        with open(\"./output.txt\", \"w\") as file:\n",
    "            file.truncate()\n",
    "        with open(\"./paragraph.txt\", \"w\") as file:\n",
    "            file.truncate()\n",
    "        for i in range(len(paragraphs)):\n",
    "            # Open a file in write mode\n",
    "            with open(\"./paragraph.txt\", \"w\") as f:\n",
    "                # Write the strings to the file\n",
    "                f.writelines(paragraphs[i])\n",
    "            os.system(f'curl -X POST http://127.0.0.1:8080/predictions/bert -T paragraph.txt >> output.txt')\n",
    "            os.system(f'echo >> output.txt')\n",
    "        \n",
    "    def to_csv(self, paragraphs: List[str], file_name: str):\n",
    "        with open('./output.txt', 'r') as f:\n",
    "            labels = f.readlines()\n",
    "            labels = [x.strip('\\n') for x in labels]\n",
    "        ans = pd.DataFrame({'paragraph': paragraphs, 'predict_label': labels})\n",
    "        ans.to_csv(f'../{self.csv_folder}/{self.word_cnt}/{file_name}.csv', sep=',', index=False, encoding='utf-8')"
   ]
  },
  {
   "cell_type": "code",
   "execution_count": 23,
   "metadata": {},
   "outputs": [],
   "source": [
    "# 'american_pdf' or 'taiwan_pdf'\n",
    "FOLDER = 'taiwan_pdf'\n",
    "# 'predict_american' or 'predict_taiwan'\n",
    "CSV_FOLDER = 'predict_taiwan'\n",
    "# 'eight_new'\n",
    "WORD_CNT = 'eight_new'"
   ]
  },
  {
   "cell_type": "code",
   "execution_count": 24,
   "metadata": {},
   "outputs": [],
   "source": [
    "# Put desired pdf here\n",
    "file_names = ['05_eme_1_46.pdf']"
   ]
  },
  {
   "cell_type": "code",
   "execution_count": null,
   "metadata": {},
   "outputs": [],
   "source": [
    "esg_bert_label = EsgBertLabel(FOLDER, CSV_FOLDER, WORD_CNT)\n",
    "esg_bert_label.loop_folder(file_names)"
   ]
  }
 ],
 "metadata": {
  "kernelspec": {
   "display_name": "esgbert",
   "language": "python",
   "name": "python3"
  },
  "language_info": {
   "codemirror_mode": {
    "name": "ipython",
    "version": 3
   },
   "file_extension": ".py",
   "mimetype": "text/x-python",
   "name": "python",
   "nbconvert_exporter": "python",
   "pygments_lexer": "ipython3",
   "version": "3.7.15"
  },
  "orig_nbformat": 4,
  "vscode": {
   "interpreter": {
    "hash": "07ab08fa76665a89038b50b331dd9223d4e470d2d4facccdbf60961d882d1011"
   }
  }
 },
 "nbformat": 4,
 "nbformat_minor": 2
}
