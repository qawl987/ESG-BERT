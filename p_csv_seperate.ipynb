{
 "cells": [
  {
   "cell_type": "code",
   "execution_count": 37,
   "metadata": {},
   "outputs": [],
   "source": [
    "import pandas as pd"
   ]
  },
  {
   "cell_type": "code",
   "execution_count": 38,
   "metadata": {},
   "outputs": [],
   "source": [
    "df = pd.read_csv('./predict_american/xml/word_count/4_apple_1_72_P_wordcnt.csv')"
   ]
  },
  {
   "cell_type": "code",
   "execution_count": 39,
   "metadata": {},
   "outputs": [],
   "source": [
    "df = df.dropna(subset=['different'])"
   ]
  },
  {
   "cell_type": "code",
   "execution_count": 40,
   "metadata": {},
   "outputs": [],
   "source": [
    "df = df.drop(columns=['different'])"
   ]
  },
  {
   "cell_type": "code",
   "execution_count": 41,
   "metadata": {},
   "outputs": [],
   "source": [
    "lda = {\n",
    "    'Business ethics': 0,\n",
    "    'Data security': 1,\n",
    "    'Access_And_Affordability': 2,\n",
    "    'Business_Model_Resilience': 3,\n",
    "    'Competitive_Behavior': 4,\n",
    "    'Critical_Incident_Risk_Management': 5,\n",
    "    'Customer_Welfare': 6,\n",
    "    'Director_Removal': 7,\n",
    "    'Employee_Engagement_Inclusion_And_Diversity': 8,\n",
    "    'Employee_Health_And_Safety': 9,\n",
    "    'Human_Rights_And_Community_Relations': 10,\n",
    "    'Labor_Practices': 11,\n",
    "    'Management_Of_Legal_And_Regulatory_Framework': 12,\n",
    "    'Physical_Impacts_Of_Climate_Change': 13,\n",
    "    'Product_Quality_And_Safety': 14,\n",
    "    'Product_Design_And_Lifecycle_Management': 15,\n",
    "    'Selling_Practices_And_Product_Labeling': 16,\n",
    "    'Supply_Chain_Management': 17,\n",
    "    'Systemic_Risk_Management': 18,\n",
    "    'Waste_And_Hazardous_Materials_Management': 19,\n",
    "    'Water_And_Wastewater_Management': 20,\n",
    "    'Air_Quality': 21,\n",
    "    'Customer_Privacy': 22,\n",
    "    'Ecological_Impacts': 23,\n",
    "    'Energy_Management': 24,\n",
    "    'GHG_Emissions': 25,\n",
    "    'None': 26\n",
    "}"
   ]
  },
  {
   "cell_type": "code",
   "execution_count": 42,
   "metadata": {},
   "outputs": [],
   "source": [
    "inv_map = {v: k for k, v in lda.items()}"
   ]
  },
  {
   "cell_type": "code",
   "execution_count": null,
   "metadata": {},
   "outputs": [],
   "source": [
    "print(inv_map)"
   ]
  },
  {
   "cell_type": "code",
   "execution_count": 43,
   "metadata": {},
   "outputs": [],
   "source": [
    "df['esg_label'] = df['predict_label'].map(inv_map)"
   ]
  },
  {
   "cell_type": "code",
   "execution_count": 44,
   "metadata": {},
   "outputs": [],
   "source": [
    "df['count_label'] = df['count'].map(inv_map)"
   ]
  },
  {
   "cell_type": "code",
   "execution_count": 45,
   "metadata": {},
   "outputs": [],
   "source": [
    "df = df.drop(columns=['predict_label', 'count'])"
   ]
  },
  {
   "cell_type": "code",
   "execution_count": 46,
   "metadata": {},
   "outputs": [],
   "source": [
    "df = df.drop(columns=['diff rate', 'empty rate'])"
   ]
  },
  {
   "cell_type": "code",
   "execution_count": 48,
   "metadata": {},
   "outputs": [],
   "source": [
    "df = df.drop(columns=['empty'])"
   ]
  },
  {
   "cell_type": "code",
   "execution_count": 49,
   "metadata": {},
   "outputs": [
    {
     "data": {
      "text/html": [
       "<div>\n",
       "<style scoped>\n",
       "    .dataframe tbody tr th:only-of-type {\n",
       "        vertical-align: middle;\n",
       "    }\n",
       "\n",
       "    .dataframe tbody tr th {\n",
       "        vertical-align: top;\n",
       "    }\n",
       "\n",
       "    .dataframe thead th {\n",
       "        text-align: right;\n",
       "    }\n",
       "</style>\n",
       "<table border=\"1\" class=\"dataframe\">\n",
       "  <thead>\n",
       "    <tr style=\"text-align: right;\">\n",
       "      <th></th>\n",
       "      <th>paragraph</th>\n",
       "      <th>esg_label</th>\n",
       "      <th>count_label</th>\n",
       "    </tr>\n",
       "  </thead>\n",
       "  <tbody>\n",
       "    <tr>\n",
       "      <th>1</th>\n",
       "      <td>13Our approach13Climate change18Resources20Sma...</td>\n",
       "      <td>Business_Model_Resilience</td>\n",
       "      <td>Waste_And_Hazardous_Materials_Management</td>\n",
       "    </tr>\n",
       "    <tr>\n",
       "      <th>2</th>\n",
       "      <td>23Our approach23Inclusion and diversity26Growt...</td>\n",
       "      <td>Employee_Engagement_Inclusion_And_Diversity</td>\n",
       "      <td>None</td>\n",
       "    </tr>\n",
       "    <tr>\n",
       "      <th>3</th>\n",
       "      <td>37Our approach40Labor and human rightsin the s...</td>\n",
       "      <td>Supply_Chain_Management</td>\n",
       "      <td>Human_Rights_And_Community_Relations</td>\n",
       "    </tr>\n",
       "    <tr>\n",
       "      <th>4</th>\n",
       "      <td>48Our approach48Privacy50Accessibility52Inclus...</td>\n",
       "      <td>Customer_Welfare</td>\n",
       "      <td>None</td>\n",
       "    </tr>\n",
       "    <tr>\n",
       "      <th>5</th>\n",
       "      <td>59Our approach60Racial Equityand Justice Initi...</td>\n",
       "      <td>Management_Of_Legal_And_Regulatory_Framework</td>\n",
       "      <td>None</td>\n",
       "    </tr>\n",
       "    <tr>\n",
       "      <th>...</th>\n",
       "      <td>...</td>\n",
       "      <td>...</td>\n",
       "      <td>...</td>\n",
       "    </tr>\n",
       "    <tr>\n",
       "      <th>806</th>\n",
       "      <td>Apple does not make political contributionsto ...</td>\n",
       "      <td>Management_Of_Legal_And_Regulatory_Framework</td>\n",
       "      <td>None</td>\n",
       "    </tr>\n",
       "    <tr>\n",
       "      <th>808</th>\n",
       "      <td>Our employees can contact Apples BusinessCondu...</td>\n",
       "      <td>Customer_Privacy</td>\n",
       "      <td>None</td>\n",
       "    </tr>\n",
       "    <tr>\n",
       "      <th>809</th>\n",
       "      <td>form Apples thirdparty reporting serviceEthics...</td>\n",
       "      <td>Data security</td>\n",
       "      <td>Customer_Welfare</td>\n",
       "    </tr>\n",
       "    <tr>\n",
       "      <th>810</th>\n",
       "      <td>Business Conduct partners with appropriateteam...</td>\n",
       "      <td>Business ethics</td>\n",
       "      <td>None</td>\n",
       "    </tr>\n",
       "    <tr>\n",
       "      <th>811</th>\n",
       "      <td>Taxes play a necessary and important rolein ou...</td>\n",
       "      <td>Management_Of_Legal_And_Regulatory_Framework</td>\n",
       "      <td>Business ethics</td>\n",
       "    </tr>\n",
       "  </tbody>\n",
       "</table>\n",
       "<p>661 rows × 3 columns</p>\n",
       "</div>"
      ],
      "text/plain": [
       "                                             paragraph  \\\n",
       "1    13Our approach13Climate change18Resources20Sma...   \n",
       "2    23Our approach23Inclusion and diversity26Growt...   \n",
       "3    37Our approach40Labor and human rightsin the s...   \n",
       "4    48Our approach48Privacy50Accessibility52Inclus...   \n",
       "5    59Our approach60Racial Equityand Justice Initi...   \n",
       "..                                                 ...   \n",
       "806  Apple does not make political contributionsto ...   \n",
       "808  Our employees can contact Apples BusinessCondu...   \n",
       "809  form Apples thirdparty reporting serviceEthics...   \n",
       "810  Business Conduct partners with appropriateteam...   \n",
       "811  Taxes play a necessary and important rolein ou...   \n",
       "\n",
       "                                        esg_label  \\\n",
       "1                       Business_Model_Resilience   \n",
       "2     Employee_Engagement_Inclusion_And_Diversity   \n",
       "3                         Supply_Chain_Management   \n",
       "4                                Customer_Welfare   \n",
       "5    Management_Of_Legal_And_Regulatory_Framework   \n",
       "..                                            ...   \n",
       "806  Management_Of_Legal_And_Regulatory_Framework   \n",
       "808                              Customer_Privacy   \n",
       "809                                 Data security   \n",
       "810                               Business ethics   \n",
       "811  Management_Of_Legal_And_Regulatory_Framework   \n",
       "\n",
       "                                  count_label  \n",
       "1    Waste_And_Hazardous_Materials_Management  \n",
       "2                                        None  \n",
       "3        Human_Rights_And_Community_Relations  \n",
       "4                                        None  \n",
       "5                                        None  \n",
       "..                                        ...  \n",
       "806                                      None  \n",
       "808                                      None  \n",
       "809                          Customer_Welfare  \n",
       "810                                      None  \n",
       "811                           Business ethics  \n",
       "\n",
       "[661 rows x 3 columns]"
      ]
     },
     "execution_count": 49,
     "metadata": {},
     "output_type": "execute_result"
    }
   ],
   "source": [
    "df"
   ]
  },
  {
   "cell_type": "code",
   "execution_count": 50,
   "metadata": {},
   "outputs": [],
   "source": [
    "df.to_csv('cleaned_file.csv', index=False)"
   ]
  }
 ],
 "metadata": {
  "kernelspec": {
   "display_name": "nlp",
   "language": "python",
   "name": "python3"
  },
  "language_info": {
   "codemirror_mode": {
    "name": "ipython",
    "version": 3
   },
   "file_extension": ".py",
   "mimetype": "text/x-python",
   "name": "python",
   "nbconvert_exporter": "python",
   "pygments_lexer": "ipython3",
   "version": "3.7.15"
  },
  "orig_nbformat": 4
 },
 "nbformat": 4,
 "nbformat_minor": 2
}
